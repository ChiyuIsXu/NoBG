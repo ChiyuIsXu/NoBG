{
 "cells": [
  {
   "cell_type": "markdown",
   "metadata": {},
   "source": [
    "Matplotlib 中默认图片尺寸为：宽 6.4 英寸，高 4.8 英寸。1 英寸 (inch) 约为 2.54 厘米 (cm)。"
   ]
  },
  {
   "cell_type": "code",
   "execution_count": 3,
   "metadata": {},
   "outputs": [],
   "source": [
    "import matplotlib as mpl\n",
    "import matplotlib.pyplot as plt\n",
    "\n",
    "import numpy as np"
   ]
  },
  {
   "cell_type": "code",
   "execution_count": 4,
   "metadata": {},
   "outputs": [],
   "source": [
    "\n",
    "# 默认图片以一个 dpi(dots per inch,每英寸点数) 为 100 的分辨率显示\n",
    "# rc = runtime configuration\n",
    "p = plt.rcParams\n",
    "p[\"figure.dpi\"] = 100\n",
    "p[\"font.sans-serif\"] = [\"Roboto\"]\n",
    "p[\"font.weight\"] = \"light\"\n",
    "p[\"ytick.minor.visible\"] = True\n",
    "p[\"xtick.minor.visible\"] = True\n",
    "p[\"axes.grid\"] = True\n",
    "p[\"grid.color\"] = \"0.5\"\n",
    "p[\"grid.linewidth\"] = 0.5"
   ]
  },
  {
   "cell_type": "code",
   "execution_count": null,
   "metadata": {},
   "outputs": [],
   "source": [
    "plt.savefig(\"plot_name.png\", dpi=300)"
   ]
  },
  {
   "cell_type": "code",
   "execution_count": null,
   "metadata": {},
   "outputs": [],
   "source": [
    "# figure.subplot.left: 0.125\n",
    "# figure.subplot.right: 0.9\n",
    "# figure.subplot.top: 0.88\n",
    "# figure.subplot.bottom: 0.11"
   ]
  },
  {
   "cell_type": "code",
   "execution_count": null,
   "metadata": {},
   "outputs": [],
   "source": [
    "fig, ax = plt.subplots()  # Create a figure containing a single axes.\n",
    "ax.plot([1, 2, 3, 4], [1, 4, 2, 3]);  # Plot some data on the axes."
   ]
  },
  {
   "cell_type": "code",
   "execution_count": null,
   "metadata": {},
   "outputs": [],
   "source": [
    "theta_array = np.linspace(\n",
    "    start=0, stop=2 * np.pi, num=120, endpoint=False, retstep=False, dtype=np.float32\n",
    ")\n",
    "sin_y = np.sin(theta_array)\n",
    "cos_y = np.cos(theta_array)\n",
    "\n",
    "# 用hsv色谱产生一组渐变色，颜色种类和散点数相同 colors = plt.cm.hsv(np.linspace(0, 1, len(cos_y)))\n",
    "# cm = colormap\n",
    "colors = plt.cm.hsv(np.linspace(0, 1, num=len(cos_y)))\n",
    "\n",
    "# 设置图片大小\n",
    "fig, ax = plt.subplots(figsize=(6, 6))\n",
    "\n",
    "# 绘制正圆，横轴坐标为 cos，纵轴坐标为 sin\n",
    "ax.plot(cos_y, sin_y, zorder=1, color=\"k\", lw=0.25)\n",
    "ax.scatter(cos_y, sin_y, marker=\".\", s=88, c=colors, edgecolor=\"w\", zorder=2)\n",
    "ax.axhline(0, c=\"k\", zorder=1)\n",
    "ax.axvline(0, c=\"k\", zorder=1)\n",
    "ax.set_xlabel(r\"$x = cos(\\theta)$\")\n",
    "ax.set_ylabel(r\"$y = sin(\\theta)$\")\n",
    "# 设置横轴和纵轴范围\n",
    "ax.set_xlim(-1.5, 1.5)\n",
    "ax.set_ylim(-1.5, 1.5)\n",
    "ax.grid(True)\n",
    "\n",
    "# 横纵轴采用相同的scale\n",
    "ax.set_aspect(\"equal\")\n",
    "ax.spines[\"top\"].set_visible(False)\n",
    "ax.spines[\"right\"].set_visible(False)\n",
    "ax.spines[\"bottom\"].set_visible(False)\n",
    "ax.spines[\"left\"].set_visible(False)"
   ]
  }
 ],
 "metadata": {
  "kernelspec": {
   "display_name": "DL",
   "language": "python",
   "name": "python3"
  },
  "language_info": {
   "codemirror_mode": {
    "name": "ipython",
    "version": 3
   },
   "file_extension": ".py",
   "mimetype": "text/x-python",
   "name": "python",
   "nbconvert_exporter": "python",
   "pygments_lexer": "ipython3",
   "version": "3.11.9"
  }
 },
 "nbformat": 4,
 "nbformat_minor": 2
}
